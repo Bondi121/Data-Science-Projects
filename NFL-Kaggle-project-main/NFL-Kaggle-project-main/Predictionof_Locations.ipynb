{
 "cells": [
  {
   "cell_type": "code",
   "execution_count": 1,
   "id": "9d39c2e9",
   "metadata": {},
   "outputs": [],
   "source": [
    "import pandas as pd\n",
    "from sklearn.model_selection import train_test_split\n",
    "from sklearn.metrics import mean_squared_error, r2_score\n",
    "from sklearn.preprocessing import LabelEncoder\n",
    "from sklearn.ensemble import RandomForestRegressor\n",
    "import numpy as np\n",
    "from sklearn.preprocessing import StandardScaler\n",
    "from sklearn.metrics import mean_squared_error, mean_absolute_error, r2_score, median_absolute_error"
   ]
  },
  {
   "cell_type": "markdown",
   "id": "40921a81",
   "metadata": {},
   "source": [
    "# Merging CSV for Feature selection "
   ]
  },
  {
   "cell_type": "code",
   "execution_count": 2,
   "id": "7d1194c5",
   "metadata": {},
   "outputs": [],
   "source": [
    "players_df = pd.read_csv('players.csv')\n",
    "plays_df =pd.read_csv('plays.csv')\n",
    "tackles_df = pd.read_csv('tackles.csv')\n",
    "tracking_week_1_df = pd.read_csv('tracking_week_1.csv')"
   ]
  },
  {
   "cell_type": "code",
   "execution_count": 3,
   "id": "aa8e5efe",
   "metadata": {},
   "outputs": [
    {
     "name": "stdout",
     "output_type": "stream",
     "text": [
      "(18309, 13)\n"
     ]
    }
   ],
   "source": [
    "tackles_df = pd.merge(players_df,tackles_df,on=['nflId'], how='left')\n",
    "print(tackles_df.shape)"
   ]
  },
  {
   "cell_type": "code",
   "execution_count": 4,
   "id": "c995190c",
   "metadata": {},
   "outputs": [
    {
     "name": "stdout",
     "output_type": "stream",
     "text": [
      "(109259, 27)\n"
     ]
    }
   ],
   "source": [
    "final_df = pd.merge(tackles_df, tracking_week_1_df, on=['playId','gameId','nflId'], how='left')\n",
    "print(final_df.shape)\n"
   ]
  },
  {
   "cell_type": "code",
   "execution_count": 5,
   "id": "75c95636",
   "metadata": {},
   "outputs": [
    {
     "name": "stdout",
     "output_type": "stream",
     "text": [
      "(108837, 60)\n"
     ]
    }
   ],
   "source": [
    "final_df = pd.merge(plays_df,final_df,on=['playId','gameId'], how='left')\n",
    "print(final_df.shape)"
   ]
  },
  {
   "cell_type": "code",
   "execution_count": 6,
   "id": "f3d1f81c",
   "metadata": {},
   "outputs": [
    {
     "data": {
      "text/plain": [
       "Index(['gameId', 'playId', 'ballCarrierId', 'ballCarrierDisplayName',\n",
       "       'playDescription', 'quarter', 'down', 'yardsToGo', 'possessionTeam',\n",
       "       'defensiveTeam', 'yardlineSide', 'yardlineNumber', 'gameClock',\n",
       "       'preSnapHomeScore', 'preSnapVisitorScore', 'passResult', 'passLength',\n",
       "       'penaltyYards', 'prePenaltyPlayResult', 'playResult',\n",
       "       'playNullifiedByPenalty', 'absoluteYardlineNumber', 'offenseFormation',\n",
       "       'defendersInTheBox', 'passProbability', 'preSnapHomeTeamWinProbability',\n",
       "       'preSnapVisitorTeamWinProbability', 'homeTeamWinProbabilityAdded',\n",
       "       'visitorTeamWinProbilityAdded', 'expectedPoints', 'expectedPointsAdded',\n",
       "       'foulName1', 'foulName2', 'foulNFLId1', 'foulNFLId2', 'nflId', 'height',\n",
       "       'weight', 'birthDate', 'collegeName', 'position', 'displayName_x',\n",
       "       'tackle', 'assist', 'forcedFumble', 'pff_missedTackle', 'displayName_y',\n",
       "       'frameId', 'time', 'jerseyNumber', 'club', 'playDirection', 'x', 'y',\n",
       "       's', 'a', 'dis', 'o', 'dir', 'event'],\n",
       "      dtype='object')"
      ]
     },
     "execution_count": 6,
     "metadata": {},
     "output_type": "execute_result"
    }
   ],
   "source": [
    "final_df.columns"
   ]
  },
  {
   "cell_type": "markdown",
   "id": "82875f98",
   "metadata": {},
   "source": [
    "# Feature Selection "
   ]
  },
  {
   "cell_type": "code",
   "execution_count": 7,
   "id": "076aff87",
   "metadata": {},
   "outputs": [
    {
     "name": "stdout",
     "output_type": "stream",
     "text": [
      "        yardsToGo  yardlineNumber  passLength  absoluteYardlineNumber  \\\n",
      "0              10              41         6.0                      69   \n",
      "1              10              34         NaN                      76   \n",
      "2              10              34         NaN                      76   \n",
      "3              10              34         NaN                      76   \n",
      "4              10              34         NaN                      76   \n",
      "...           ...             ...         ...                     ...   \n",
      "108832         10              41         NaN                      69   \n",
      "108833         10              34         NaN                      44   \n",
      "108834         10              34         NaN                      44   \n",
      "108835          1              17         NaN                      27   \n",
      "108836          1              17         NaN                      27   \n",
      "\n",
      "       position playDirection   dis       o     dir      x      y  \n",
      "0            FS           NaN   NaN     NaN     NaN    NaN    NaN  \n",
      "1            CB          left  0.05  116.37  296.96  68.68  41.56  \n",
      "2            CB          left  0.05  116.37  295.99  68.63  41.58  \n",
      "3            CB          left  0.04  117.55  297.11  68.59  41.60  \n",
      "4            CB          left  0.04  117.55  302.03  68.56  41.62  \n",
      "...         ...           ...   ...     ...     ...    ...    ...  \n",
      "108832       CB           NaN   NaN     NaN     NaN    NaN    NaN  \n",
      "108833      ILB           NaN   NaN     NaN     NaN    NaN    NaN  \n",
      "108834      ILB           NaN   NaN     NaN     NaN    NaN    NaN  \n",
      "108835      ILB           NaN   NaN     NaN     NaN    NaN    NaN  \n",
      "108836      OLB           NaN   NaN     NaN     NaN    NaN    NaN  \n",
      "\n",
      "[108837 rows x 11 columns]\n"
     ]
    }
   ],
   "source": [
    "final_data = pd.DataFrame()\n",
    "columns =['yardsToGo','yardlineNumber','passLength','absoluteYardlineNumber','position','playDirection','dis','o','dir','x','y']\n",
    "final_data[columns] = final_df[columns]\n",
    "print(final_data)"
   ]
  },
  {
   "cell_type": "markdown",
   "id": "477a5fa7",
   "metadata": {},
   "source": [
    "# Label Encoding for categorical features "
   ]
  },
  {
   "cell_type": "code",
   "execution_count": 8,
   "id": "a4364775",
   "metadata": {},
   "outputs": [],
   "source": [
    "label_encoder = LabelEncoder()\n",
    "# Fit and transform the categorical column\n",
    "final_data['position'] = label_encoder.fit_transform(final_data['position'])"
   ]
  },
  {
   "cell_type": "code",
   "execution_count": 9,
   "id": "d1c0a7b0",
   "metadata": {},
   "outputs": [],
   "source": [
    "final_data['playDirection'] = label_encoder.fit_transform(final_data['playDirection'])"
   ]
  },
  {
   "cell_type": "code",
   "execution_count": 10,
   "id": "91cf7bbd",
   "metadata": {},
   "outputs": [],
   "source": [
    "final_data.rename(columns={'x': 'cord1', 'y': 'cord2'}, inplace=True)# Renaming X&Y and cord1 , cord2"
   ]
  },
  {
   "cell_type": "code",
   "execution_count": 11,
   "id": "84efc489",
   "metadata": {},
   "outputs": [],
   "source": [
    "final_data=final_data.dropna()   # droping Null values \n",
    "final_data = final_data.reset_index(drop=True)"
   ]
  },
  {
   "cell_type": "code",
   "execution_count": 12,
   "id": "a8168e4c",
   "metadata": {},
   "outputs": [
    {
     "data": {
      "text/html": [
       "<div>\n",
       "<style scoped>\n",
       "    .dataframe tbody tr th:only-of-type {\n",
       "        vertical-align: middle;\n",
       "    }\n",
       "\n",
       "    .dataframe tbody tr th {\n",
       "        vertical-align: top;\n",
       "    }\n",
       "\n",
       "    .dataframe thead th {\n",
       "        text-align: right;\n",
       "    }\n",
       "</style>\n",
       "<table border=\"1\" class=\"dataframe\">\n",
       "  <thead>\n",
       "    <tr style=\"text-align: right;\">\n",
       "      <th></th>\n",
       "      <th>yardsToGo</th>\n",
       "      <th>yardlineNumber</th>\n",
       "      <th>passLength</th>\n",
       "      <th>absoluteYardlineNumber</th>\n",
       "      <th>position</th>\n",
       "      <th>playDirection</th>\n",
       "      <th>dis</th>\n",
       "      <th>o</th>\n",
       "      <th>dir</th>\n",
       "      <th>cord1</th>\n",
       "      <th>cord2</th>\n",
       "    </tr>\n",
       "  </thead>\n",
       "  <tbody>\n",
       "    <tr>\n",
       "      <th>0</th>\n",
       "      <td>5</td>\n",
       "      <td>30</td>\n",
       "      <td>11.0</td>\n",
       "      <td>40</td>\n",
       "      <td>4</td>\n",
       "      <td>1</td>\n",
       "      <td>0.20</td>\n",
       "      <td>267.13</td>\n",
       "      <td>279.69</td>\n",
       "      <td>57.89</td>\n",
       "      <td>26.88</td>\n",
       "    </tr>\n",
       "    <tr>\n",
       "      <th>1</th>\n",
       "      <td>5</td>\n",
       "      <td>30</td>\n",
       "      <td>11.0</td>\n",
       "      <td>40</td>\n",
       "      <td>4</td>\n",
       "      <td>1</td>\n",
       "      <td>0.27</td>\n",
       "      <td>270.92</td>\n",
       "      <td>283.11</td>\n",
       "      <td>57.63</td>\n",
       "      <td>26.95</td>\n",
       "    </tr>\n",
       "    <tr>\n",
       "      <th>2</th>\n",
       "      <td>5</td>\n",
       "      <td>30</td>\n",
       "      <td>11.0</td>\n",
       "      <td>40</td>\n",
       "      <td>4</td>\n",
       "      <td>1</td>\n",
       "      <td>0.33</td>\n",
       "      <td>272.04</td>\n",
       "      <td>287.08</td>\n",
       "      <td>57.32</td>\n",
       "      <td>27.05</td>\n",
       "    </tr>\n",
       "    <tr>\n",
       "      <th>3</th>\n",
       "      <td>5</td>\n",
       "      <td>30</td>\n",
       "      <td>11.0</td>\n",
       "      <td>40</td>\n",
       "      <td>4</td>\n",
       "      <td>1</td>\n",
       "      <td>0.40</td>\n",
       "      <td>272.04</td>\n",
       "      <td>292.74</td>\n",
       "      <td>56.95</td>\n",
       "      <td>27.20</td>\n",
       "    </tr>\n",
       "    <tr>\n",
       "      <th>4</th>\n",
       "      <td>5</td>\n",
       "      <td>30</td>\n",
       "      <td>11.0</td>\n",
       "      <td>40</td>\n",
       "      <td>4</td>\n",
       "      <td>1</td>\n",
       "      <td>0.44</td>\n",
       "      <td>272.65</td>\n",
       "      <td>296.43</td>\n",
       "      <td>56.56</td>\n",
       "      <td>27.40</td>\n",
       "    </tr>\n",
       "    <tr>\n",
       "      <th>...</th>\n",
       "      <td>...</td>\n",
       "      <td>...</td>\n",
       "      <td>...</td>\n",
       "      <td>...</td>\n",
       "      <td>...</td>\n",
       "      <td>...</td>\n",
       "      <td>...</td>\n",
       "      <td>...</td>\n",
       "      <td>...</td>\n",
       "      <td>...</td>\n",
       "      <td>...</td>\n",
       "    </tr>\n",
       "    <tr>\n",
       "      <th>26832</th>\n",
       "      <td>10</td>\n",
       "      <td>30</td>\n",
       "      <td>0.0</td>\n",
       "      <td>40</td>\n",
       "      <td>4</td>\n",
       "      <td>1</td>\n",
       "      <td>0.34</td>\n",
       "      <td>0.30</td>\n",
       "      <td>358.37</td>\n",
       "      <td>41.94</td>\n",
       "      <td>18.59</td>\n",
       "    </tr>\n",
       "    <tr>\n",
       "      <th>26833</th>\n",
       "      <td>10</td>\n",
       "      <td>30</td>\n",
       "      <td>0.0</td>\n",
       "      <td>40</td>\n",
       "      <td>4</td>\n",
       "      <td>1</td>\n",
       "      <td>0.29</td>\n",
       "      <td>353.56</td>\n",
       "      <td>356.64</td>\n",
       "      <td>41.93</td>\n",
       "      <td>18.88</td>\n",
       "    </tr>\n",
       "    <tr>\n",
       "      <th>26834</th>\n",
       "      <td>10</td>\n",
       "      <td>30</td>\n",
       "      <td>0.0</td>\n",
       "      <td>40</td>\n",
       "      <td>4</td>\n",
       "      <td>1</td>\n",
       "      <td>0.24</td>\n",
       "      <td>2.14</td>\n",
       "      <td>357.57</td>\n",
       "      <td>41.92</td>\n",
       "      <td>19.12</td>\n",
       "    </tr>\n",
       "    <tr>\n",
       "      <th>26835</th>\n",
       "      <td>10</td>\n",
       "      <td>30</td>\n",
       "      <td>0.0</td>\n",
       "      <td>40</td>\n",
       "      <td>4</td>\n",
       "      <td>1</td>\n",
       "      <td>0.18</td>\n",
       "      <td>3.66</td>\n",
       "      <td>357.42</td>\n",
       "      <td>41.91</td>\n",
       "      <td>19.30</td>\n",
       "    </tr>\n",
       "    <tr>\n",
       "      <th>26836</th>\n",
       "      <td>10</td>\n",
       "      <td>30</td>\n",
       "      <td>0.0</td>\n",
       "      <td>40</td>\n",
       "      <td>4</td>\n",
       "      <td>1</td>\n",
       "      <td>0.12</td>\n",
       "      <td>3.66</td>\n",
       "      <td>353.75</td>\n",
       "      <td>41.90</td>\n",
       "      <td>19.42</td>\n",
       "    </tr>\n",
       "  </tbody>\n",
       "</table>\n",
       "<p>26837 rows × 11 columns</p>\n",
       "</div>"
      ],
      "text/plain": [
       "       yardsToGo  yardlineNumber  passLength  absoluteYardlineNumber  \\\n",
       "0              5              30        11.0                      40   \n",
       "1              5              30        11.0                      40   \n",
       "2              5              30        11.0                      40   \n",
       "3              5              30        11.0                      40   \n",
       "4              5              30        11.0                      40   \n",
       "...          ...             ...         ...                     ...   \n",
       "26832         10              30         0.0                      40   \n",
       "26833         10              30         0.0                      40   \n",
       "26834         10              30         0.0                      40   \n",
       "26835         10              30         0.0                      40   \n",
       "26836         10              30         0.0                      40   \n",
       "\n",
       "       position  playDirection   dis       o     dir  cord1  cord2  \n",
       "0             4              1  0.20  267.13  279.69  57.89  26.88  \n",
       "1             4              1  0.27  270.92  283.11  57.63  26.95  \n",
       "2             4              1  0.33  272.04  287.08  57.32  27.05  \n",
       "3             4              1  0.40  272.04  292.74  56.95  27.20  \n",
       "4             4              1  0.44  272.65  296.43  56.56  27.40  \n",
       "...         ...            ...   ...     ...     ...    ...    ...  \n",
       "26832         4              1  0.34    0.30  358.37  41.94  18.59  \n",
       "26833         4              1  0.29  353.56  356.64  41.93  18.88  \n",
       "26834         4              1  0.24    2.14  357.57  41.92  19.12  \n",
       "26835         4              1  0.18    3.66  357.42  41.91  19.30  \n",
       "26836         4              1  0.12    3.66  353.75  41.90  19.42  \n",
       "\n",
       "[26837 rows x 11 columns]"
      ]
     },
     "execution_count": 12,
     "metadata": {},
     "output_type": "execute_result"
    }
   ],
   "source": [
    "final_data"
   ]
  },
  {
   "cell_type": "markdown",
   "id": "a2542be5",
   "metadata": {},
   "source": [
    "# Predicting CORD1(X)"
   ]
  },
  {
   "cell_type": "code",
   "execution_count": 13,
   "id": "558c4111",
   "metadata": {},
   "outputs": [],
   "source": [
    "X = final_data.iloc[:,0:-2].values  #defining X & Y \n",
    "y = final_data.iloc[:,-2].values"
   ]
  },
  {
   "cell_type": "code",
   "execution_count": 14,
   "id": "2a4159ce",
   "metadata": {},
   "outputs": [],
   "source": [
    "scaler=StandardScaler()   #Standard scaling of features & target variable \n",
    "X = scaler.fit_transform(X)    "
   ]
  },
  {
   "cell_type": "code",
   "execution_count": 15,
   "id": "2c70f3de",
   "metadata": {},
   "outputs": [],
   "source": [
    "X_train, X_test, y_train, y_test = train_test_split(X, y, test_size=0.2, random_state=42)  #spliting X & Y "
   ]
  },
  {
   "cell_type": "code",
   "execution_count": 16,
   "id": "3dbfde56",
   "metadata": {},
   "outputs": [
    {
     "data": {
      "text/html": [
       "<style>#sk-container-id-1 {color: black;background-color: white;}#sk-container-id-1 pre{padding: 0;}#sk-container-id-1 div.sk-toggleable {background-color: white;}#sk-container-id-1 label.sk-toggleable__label {cursor: pointer;display: block;width: 100%;margin-bottom: 0;padding: 0.3em;box-sizing: border-box;text-align: center;}#sk-container-id-1 label.sk-toggleable__label-arrow:before {content: \"▸\";float: left;margin-right: 0.25em;color: #696969;}#sk-container-id-1 label.sk-toggleable__label-arrow:hover:before {color: black;}#sk-container-id-1 div.sk-estimator:hover label.sk-toggleable__label-arrow:before {color: black;}#sk-container-id-1 div.sk-toggleable__content {max-height: 0;max-width: 0;overflow: hidden;text-align: left;background-color: #f0f8ff;}#sk-container-id-1 div.sk-toggleable__content pre {margin: 0.2em;color: black;border-radius: 0.25em;background-color: #f0f8ff;}#sk-container-id-1 input.sk-toggleable__control:checked~div.sk-toggleable__content {max-height: 200px;max-width: 100%;overflow: auto;}#sk-container-id-1 input.sk-toggleable__control:checked~label.sk-toggleable__label-arrow:before {content: \"▾\";}#sk-container-id-1 div.sk-estimator input.sk-toggleable__control:checked~label.sk-toggleable__label {background-color: #d4ebff;}#sk-container-id-1 div.sk-label input.sk-toggleable__control:checked~label.sk-toggleable__label {background-color: #d4ebff;}#sk-container-id-1 input.sk-hidden--visually {border: 0;clip: rect(1px 1px 1px 1px);clip: rect(1px, 1px, 1px, 1px);height: 1px;margin: -1px;overflow: hidden;padding: 0;position: absolute;width: 1px;}#sk-container-id-1 div.sk-estimator {font-family: monospace;background-color: #f0f8ff;border: 1px dotted black;border-radius: 0.25em;box-sizing: border-box;margin-bottom: 0.5em;}#sk-container-id-1 div.sk-estimator:hover {background-color: #d4ebff;}#sk-container-id-1 div.sk-parallel-item::after {content: \"\";width: 100%;border-bottom: 1px solid gray;flex-grow: 1;}#sk-container-id-1 div.sk-label:hover label.sk-toggleable__label {background-color: #d4ebff;}#sk-container-id-1 div.sk-serial::before {content: \"\";position: absolute;border-left: 1px solid gray;box-sizing: border-box;top: 0;bottom: 0;left: 50%;z-index: 0;}#sk-container-id-1 div.sk-serial {display: flex;flex-direction: column;align-items: center;background-color: white;padding-right: 0.2em;padding-left: 0.2em;position: relative;}#sk-container-id-1 div.sk-item {position: relative;z-index: 1;}#sk-container-id-1 div.sk-parallel {display: flex;align-items: stretch;justify-content: center;background-color: white;position: relative;}#sk-container-id-1 div.sk-item::before, #sk-container-id-1 div.sk-parallel-item::before {content: \"\";position: absolute;border-left: 1px solid gray;box-sizing: border-box;top: 0;bottom: 0;left: 50%;z-index: -1;}#sk-container-id-1 div.sk-parallel-item {display: flex;flex-direction: column;z-index: 1;position: relative;background-color: white;}#sk-container-id-1 div.sk-parallel-item:first-child::after {align-self: flex-end;width: 50%;}#sk-container-id-1 div.sk-parallel-item:last-child::after {align-self: flex-start;width: 50%;}#sk-container-id-1 div.sk-parallel-item:only-child::after {width: 0;}#sk-container-id-1 div.sk-dashed-wrapped {border: 1px dashed gray;margin: 0 0.4em 0.5em 0.4em;box-sizing: border-box;padding-bottom: 0.4em;background-color: white;}#sk-container-id-1 div.sk-label label {font-family: monospace;font-weight: bold;display: inline-block;line-height: 1.2em;}#sk-container-id-1 div.sk-label-container {text-align: center;}#sk-container-id-1 div.sk-container {/* jupyter's `normalize.less` sets `[hidden] { display: none; }` but bootstrap.min.css set `[hidden] { display: none !important; }` so we also need the `!important` here to be able to override the default hidden behavior on the sphinx rendered scikit-learn.org. See: https://github.com/scikit-learn/scikit-learn/issues/21755 */display: inline-block !important;position: relative;}#sk-container-id-1 div.sk-text-repr-fallback {display: none;}</style><div id=\"sk-container-id-1\" class=\"sk-top-container\"><div class=\"sk-text-repr-fallback\"><pre>RandomForestRegressor(random_state=42)</pre><b>In a Jupyter environment, please rerun this cell to show the HTML representation or trust the notebook. <br />On GitHub, the HTML representation is unable to render, please try loading this page with nbviewer.org.</b></div><div class=\"sk-container\" hidden><div class=\"sk-item\"><div class=\"sk-estimator sk-toggleable\"><input class=\"sk-toggleable__control sk-hidden--visually\" id=\"sk-estimator-id-1\" type=\"checkbox\" checked><label for=\"sk-estimator-id-1\" class=\"sk-toggleable__label sk-toggleable__label-arrow\">RandomForestRegressor</label><div class=\"sk-toggleable__content\"><pre>RandomForestRegressor(random_state=42)</pre></div></div></div></div></div>"
      ],
      "text/plain": [
       "RandomForestRegressor(random_state=42)"
      ]
     },
     "execution_count": 16,
     "metadata": {},
     "output_type": "execute_result"
    }
   ],
   "source": [
    "rf_regressor = RandomForestRegressor(n_estimators=100, random_state=42)\n",
    "rf_regressor.fit(X_train, y_train)    #model fitting / training "
   ]
  },
  {
   "cell_type": "code",
   "execution_count": 17,
   "id": "0091d1a2",
   "metadata": {},
   "outputs": [],
   "source": [
    "prediction_X = rf_regressor.predict(X_test) #here y_pred is X coordinate of location  "
   ]
  },
  {
   "cell_type": "code",
   "execution_count": 41,
   "id": "88ccef17",
   "metadata": {},
   "outputs": [
    {
     "name": "stdout",
     "output_type": "stream",
     "text": [
      "Mean Absolute Error: 0.6482049552906105\n",
      "Mean Square Error: 1.5738107079955272\n",
      "Root Mean Square Error: 0.000517532107256438\n",
      "R2 score: 0.9969178589540111\n",
      "Median Absolute Error: 0.29964999999999975\n"
     ]
    }
   ],
   "source": [
    "# checking error values\n",
    "mae = mean_absolute_error(y_test, prediction_X)\n",
    "print(f'Mean Absolute Error: {mae}')\n",
    "mse = mean_squared_error(y_test, prediction_X)\n",
    "print(f'Mean Square Error: {mse}')\n",
    "rmse = np.sqrt(mse1)\n",
    "print(f'Root Mean Square Error: {rmse}')\n",
    "r2 = r2_score(y_test, prediction_X)\n",
    "print(f'R2 score: {r2}')\n",
    "medae = median_absolute_error(y_test, prediction_X)\n",
    "print(f'Median Absolute Error: {medae}')"
   ]
  },
  {
   "cell_type": "code",
   "execution_count": 19,
   "id": "613ccc33",
   "metadata": {},
   "outputs": [
    {
     "data": {
      "text/plain": [
       "(1.5738107079955272,\n",
       " 1.2545161250440455,\n",
       " 0.6482049552906105,\n",
       " 0.9969178589540111,\n",
       " 0.29964999999999975)"
      ]
     },
     "execution_count": 19,
     "metadata": {},
     "output_type": "execute_result"
    }
   ],
   "source": [
    "mse,rmse,mae,r2,medae"
   ]
  },
  {
   "cell_type": "markdown",
   "id": "c3d907ac",
   "metadata": {},
   "source": [
    "# Predicting cord2(Y)"
   ]
  },
  {
   "cell_type": "code",
   "execution_count": 20,
   "id": "d57e74e1",
   "metadata": {},
   "outputs": [],
   "source": [
    "data=final_data.copy()  #creating copy of final_data as data "
   ]
  },
  {
   "cell_type": "code",
   "execution_count": 21,
   "id": "193bb8a7",
   "metadata": {},
   "outputs": [],
   "source": [
    "X_pred = rf_regressor.predict(X)  "
   ]
  },
  {
   "cell_type": "code",
   "execution_count": 22,
   "id": "f68cc20f",
   "metadata": {},
   "outputs": [],
   "source": [
    "data['cord1_pred']=X_pred   #adding prediction X variable to dataframe "
   ]
  },
  {
   "cell_type": "code",
   "execution_count": 23,
   "id": "8b346c31",
   "metadata": {},
   "outputs": [
    {
     "data": {
      "text/html": [
       "<div>\n",
       "<style scoped>\n",
       "    .dataframe tbody tr th:only-of-type {\n",
       "        vertical-align: middle;\n",
       "    }\n",
       "\n",
       "    .dataframe tbody tr th {\n",
       "        vertical-align: top;\n",
       "    }\n",
       "\n",
       "    .dataframe thead th {\n",
       "        text-align: right;\n",
       "    }\n",
       "</style>\n",
       "<table border=\"1\" class=\"dataframe\">\n",
       "  <thead>\n",
       "    <tr style=\"text-align: right;\">\n",
       "      <th></th>\n",
       "      <th>yardsToGo</th>\n",
       "      <th>yardlineNumber</th>\n",
       "      <th>passLength</th>\n",
       "      <th>absoluteYardlineNumber</th>\n",
       "      <th>position</th>\n",
       "      <th>playDirection</th>\n",
       "      <th>dis</th>\n",
       "      <th>o</th>\n",
       "      <th>dir</th>\n",
       "      <th>cord1</th>\n",
       "      <th>cord2</th>\n",
       "      <th>cord1_pred</th>\n",
       "    </tr>\n",
       "  </thead>\n",
       "  <tbody>\n",
       "    <tr>\n",
       "      <th>0</th>\n",
       "      <td>5</td>\n",
       "      <td>30</td>\n",
       "      <td>11.0</td>\n",
       "      <td>40</td>\n",
       "      <td>4</td>\n",
       "      <td>1</td>\n",
       "      <td>0.20</td>\n",
       "      <td>267.13</td>\n",
       "      <td>279.69</td>\n",
       "      <td>57.89</td>\n",
       "      <td>26.88</td>\n",
       "      <td>57.3630</td>\n",
       "    </tr>\n",
       "    <tr>\n",
       "      <th>1</th>\n",
       "      <td>5</td>\n",
       "      <td>30</td>\n",
       "      <td>11.0</td>\n",
       "      <td>40</td>\n",
       "      <td>4</td>\n",
       "      <td>1</td>\n",
       "      <td>0.27</td>\n",
       "      <td>270.92</td>\n",
       "      <td>283.11</td>\n",
       "      <td>57.63</td>\n",
       "      <td>26.95</td>\n",
       "      <td>57.4642</td>\n",
       "    </tr>\n",
       "    <tr>\n",
       "      <th>2</th>\n",
       "      <td>5</td>\n",
       "      <td>30</td>\n",
       "      <td>11.0</td>\n",
       "      <td>40</td>\n",
       "      <td>4</td>\n",
       "      <td>1</td>\n",
       "      <td>0.33</td>\n",
       "      <td>272.04</td>\n",
       "      <td>287.08</td>\n",
       "      <td>57.32</td>\n",
       "      <td>27.05</td>\n",
       "      <td>57.2313</td>\n",
       "    </tr>\n",
       "    <tr>\n",
       "      <th>3</th>\n",
       "      <td>5</td>\n",
       "      <td>30</td>\n",
       "      <td>11.0</td>\n",
       "      <td>40</td>\n",
       "      <td>4</td>\n",
       "      <td>1</td>\n",
       "      <td>0.40</td>\n",
       "      <td>272.04</td>\n",
       "      <td>292.74</td>\n",
       "      <td>56.95</td>\n",
       "      <td>27.20</td>\n",
       "      <td>56.8971</td>\n",
       "    </tr>\n",
       "    <tr>\n",
       "      <th>4</th>\n",
       "      <td>5</td>\n",
       "      <td>30</td>\n",
       "      <td>11.0</td>\n",
       "      <td>40</td>\n",
       "      <td>4</td>\n",
       "      <td>1</td>\n",
       "      <td>0.44</td>\n",
       "      <td>272.65</td>\n",
       "      <td>296.43</td>\n",
       "      <td>56.56</td>\n",
       "      <td>27.40</td>\n",
       "      <td>56.4795</td>\n",
       "    </tr>\n",
       "    <tr>\n",
       "      <th>...</th>\n",
       "      <td>...</td>\n",
       "      <td>...</td>\n",
       "      <td>...</td>\n",
       "      <td>...</td>\n",
       "      <td>...</td>\n",
       "      <td>...</td>\n",
       "      <td>...</td>\n",
       "      <td>...</td>\n",
       "      <td>...</td>\n",
       "      <td>...</td>\n",
       "      <td>...</td>\n",
       "      <td>...</td>\n",
       "    </tr>\n",
       "    <tr>\n",
       "      <th>26832</th>\n",
       "      <td>10</td>\n",
       "      <td>30</td>\n",
       "      <td>0.0</td>\n",
       "      <td>40</td>\n",
       "      <td>4</td>\n",
       "      <td>1</td>\n",
       "      <td>0.34</td>\n",
       "      <td>0.30</td>\n",
       "      <td>358.37</td>\n",
       "      <td>41.94</td>\n",
       "      <td>18.59</td>\n",
       "      <td>45.2524</td>\n",
       "    </tr>\n",
       "    <tr>\n",
       "      <th>26833</th>\n",
       "      <td>10</td>\n",
       "      <td>30</td>\n",
       "      <td>0.0</td>\n",
       "      <td>40</td>\n",
       "      <td>4</td>\n",
       "      <td>1</td>\n",
       "      <td>0.29</td>\n",
       "      <td>353.56</td>\n",
       "      <td>356.64</td>\n",
       "      <td>41.93</td>\n",
       "      <td>18.88</td>\n",
       "      <td>42.0175</td>\n",
       "    </tr>\n",
       "    <tr>\n",
       "      <th>26834</th>\n",
       "      <td>10</td>\n",
       "      <td>30</td>\n",
       "      <td>0.0</td>\n",
       "      <td>40</td>\n",
       "      <td>4</td>\n",
       "      <td>1</td>\n",
       "      <td>0.24</td>\n",
       "      <td>2.14</td>\n",
       "      <td>357.57</td>\n",
       "      <td>41.92</td>\n",
       "      <td>19.12</td>\n",
       "      <td>43.5075</td>\n",
       "    </tr>\n",
       "    <tr>\n",
       "      <th>26835</th>\n",
       "      <td>10</td>\n",
       "      <td>30</td>\n",
       "      <td>0.0</td>\n",
       "      <td>40</td>\n",
       "      <td>4</td>\n",
       "      <td>1</td>\n",
       "      <td>0.18</td>\n",
       "      <td>3.66</td>\n",
       "      <td>357.42</td>\n",
       "      <td>41.91</td>\n",
       "      <td>19.30</td>\n",
       "      <td>43.2551</td>\n",
       "    </tr>\n",
       "    <tr>\n",
       "      <th>26836</th>\n",
       "      <td>10</td>\n",
       "      <td>30</td>\n",
       "      <td>0.0</td>\n",
       "      <td>40</td>\n",
       "      <td>4</td>\n",
       "      <td>1</td>\n",
       "      <td>0.12</td>\n",
       "      <td>3.66</td>\n",
       "      <td>353.75</td>\n",
       "      <td>41.90</td>\n",
       "      <td>19.42</td>\n",
       "      <td>42.8225</td>\n",
       "    </tr>\n",
       "  </tbody>\n",
       "</table>\n",
       "<p>26837 rows × 12 columns</p>\n",
       "</div>"
      ],
      "text/plain": [
       "       yardsToGo  yardlineNumber  passLength  absoluteYardlineNumber  \\\n",
       "0              5              30        11.0                      40   \n",
       "1              5              30        11.0                      40   \n",
       "2              5              30        11.0                      40   \n",
       "3              5              30        11.0                      40   \n",
       "4              5              30        11.0                      40   \n",
       "...          ...             ...         ...                     ...   \n",
       "26832         10              30         0.0                      40   \n",
       "26833         10              30         0.0                      40   \n",
       "26834         10              30         0.0                      40   \n",
       "26835         10              30         0.0                      40   \n",
       "26836         10              30         0.0                      40   \n",
       "\n",
       "       position  playDirection   dis       o     dir  cord1  cord2  cord1_pred  \n",
       "0             4              1  0.20  267.13  279.69  57.89  26.88     57.3630  \n",
       "1             4              1  0.27  270.92  283.11  57.63  26.95     57.4642  \n",
       "2             4              1  0.33  272.04  287.08  57.32  27.05     57.2313  \n",
       "3             4              1  0.40  272.04  292.74  56.95  27.20     56.8971  \n",
       "4             4              1  0.44  272.65  296.43  56.56  27.40     56.4795  \n",
       "...         ...            ...   ...     ...     ...    ...    ...         ...  \n",
       "26832         4              1  0.34    0.30  358.37  41.94  18.59     45.2524  \n",
       "26833         4              1  0.29  353.56  356.64  41.93  18.88     42.0175  \n",
       "26834         4              1  0.24    2.14  357.57  41.92  19.12     43.5075  \n",
       "26835         4              1  0.18    3.66  357.42  41.91  19.30     43.2551  \n",
       "26836         4              1  0.12    3.66  353.75  41.90  19.42     42.8225  \n",
       "\n",
       "[26837 rows x 12 columns]"
      ]
     },
     "execution_count": 23,
     "metadata": {},
     "output_type": "execute_result"
    }
   ],
   "source": [
    "data"
   ]
  },
  {
   "cell_type": "code",
   "execution_count": 30,
   "id": "6ec3e6e5",
   "metadata": {},
   "outputs": [],
   "source": [
    "y1=data.iloc[:,-2].values    #fetching  Features and target variable \n",
    "X1=data.iloc[:,0:10].values\n",
    "scaler=StandardScaler()\n",
    "X1 = scaler.fit_transform(X1)  #Standard scaling of X & Y  \n",
    "y1 = y.reshape(-1, 1)\n",
    "y1= scaler.fit_transform(y1)"
   ]
  },
  {
   "cell_type": "code",
   "execution_count": 31,
   "id": "5b8e86ca",
   "metadata": {},
   "outputs": [],
   "source": [
    "X_train1, X_test1, y_train1, y_test1 = train_test_split(X1, y1, test_size=0.2, random_state=42)   #spiliting of X & Y "
   ]
  },
  {
   "cell_type": "code",
   "execution_count": 32,
   "id": "2dfdbd3d",
   "metadata": {},
   "outputs": [
    {
     "name": "stderr",
     "output_type": "stream",
     "text": [
      "C:\\Users\\sharmashailza\\AppData\\Local\\Temp\\ipykernel_10352\\448746688.py:2: DataConversionWarning: A column-vector y was passed when a 1d array was expected. Please change the shape of y to (n_samples,), for example using ravel().\n",
      "  rf_regressor1.fit(X_train1, y_train1)\n"
     ]
    },
    {
     "data": {
      "text/html": [
       "<style>#sk-container-id-3 {color: black;background-color: white;}#sk-container-id-3 pre{padding: 0;}#sk-container-id-3 div.sk-toggleable {background-color: white;}#sk-container-id-3 label.sk-toggleable__label {cursor: pointer;display: block;width: 100%;margin-bottom: 0;padding: 0.3em;box-sizing: border-box;text-align: center;}#sk-container-id-3 label.sk-toggleable__label-arrow:before {content: \"▸\";float: left;margin-right: 0.25em;color: #696969;}#sk-container-id-3 label.sk-toggleable__label-arrow:hover:before {color: black;}#sk-container-id-3 div.sk-estimator:hover label.sk-toggleable__label-arrow:before {color: black;}#sk-container-id-3 div.sk-toggleable__content {max-height: 0;max-width: 0;overflow: hidden;text-align: left;background-color: #f0f8ff;}#sk-container-id-3 div.sk-toggleable__content pre {margin: 0.2em;color: black;border-radius: 0.25em;background-color: #f0f8ff;}#sk-container-id-3 input.sk-toggleable__control:checked~div.sk-toggleable__content {max-height: 200px;max-width: 100%;overflow: auto;}#sk-container-id-3 input.sk-toggleable__control:checked~label.sk-toggleable__label-arrow:before {content: \"▾\";}#sk-container-id-3 div.sk-estimator input.sk-toggleable__control:checked~label.sk-toggleable__label {background-color: #d4ebff;}#sk-container-id-3 div.sk-label input.sk-toggleable__control:checked~label.sk-toggleable__label {background-color: #d4ebff;}#sk-container-id-3 input.sk-hidden--visually {border: 0;clip: rect(1px 1px 1px 1px);clip: rect(1px, 1px, 1px, 1px);height: 1px;margin: -1px;overflow: hidden;padding: 0;position: absolute;width: 1px;}#sk-container-id-3 div.sk-estimator {font-family: monospace;background-color: #f0f8ff;border: 1px dotted black;border-radius: 0.25em;box-sizing: border-box;margin-bottom: 0.5em;}#sk-container-id-3 div.sk-estimator:hover {background-color: #d4ebff;}#sk-container-id-3 div.sk-parallel-item::after {content: \"\";width: 100%;border-bottom: 1px solid gray;flex-grow: 1;}#sk-container-id-3 div.sk-label:hover label.sk-toggleable__label {background-color: #d4ebff;}#sk-container-id-3 div.sk-serial::before {content: \"\";position: absolute;border-left: 1px solid gray;box-sizing: border-box;top: 0;bottom: 0;left: 50%;z-index: 0;}#sk-container-id-3 div.sk-serial {display: flex;flex-direction: column;align-items: center;background-color: white;padding-right: 0.2em;padding-left: 0.2em;position: relative;}#sk-container-id-3 div.sk-item {position: relative;z-index: 1;}#sk-container-id-3 div.sk-parallel {display: flex;align-items: stretch;justify-content: center;background-color: white;position: relative;}#sk-container-id-3 div.sk-item::before, #sk-container-id-3 div.sk-parallel-item::before {content: \"\";position: absolute;border-left: 1px solid gray;box-sizing: border-box;top: 0;bottom: 0;left: 50%;z-index: -1;}#sk-container-id-3 div.sk-parallel-item {display: flex;flex-direction: column;z-index: 1;position: relative;background-color: white;}#sk-container-id-3 div.sk-parallel-item:first-child::after {align-self: flex-end;width: 50%;}#sk-container-id-3 div.sk-parallel-item:last-child::after {align-self: flex-start;width: 50%;}#sk-container-id-3 div.sk-parallel-item:only-child::after {width: 0;}#sk-container-id-3 div.sk-dashed-wrapped {border: 1px dashed gray;margin: 0 0.4em 0.5em 0.4em;box-sizing: border-box;padding-bottom: 0.4em;background-color: white;}#sk-container-id-3 div.sk-label label {font-family: monospace;font-weight: bold;display: inline-block;line-height: 1.2em;}#sk-container-id-3 div.sk-label-container {text-align: center;}#sk-container-id-3 div.sk-container {/* jupyter's `normalize.less` sets `[hidden] { display: none; }` but bootstrap.min.css set `[hidden] { display: none !important; }` so we also need the `!important` here to be able to override the default hidden behavior on the sphinx rendered scikit-learn.org. See: https://github.com/scikit-learn/scikit-learn/issues/21755 */display: inline-block !important;position: relative;}#sk-container-id-3 div.sk-text-repr-fallback {display: none;}</style><div id=\"sk-container-id-3\" class=\"sk-top-container\"><div class=\"sk-text-repr-fallback\"><pre>RandomForestRegressor(random_state=42)</pre><b>In a Jupyter environment, please rerun this cell to show the HTML representation or trust the notebook. <br />On GitHub, the HTML representation is unable to render, please try loading this page with nbviewer.org.</b></div><div class=\"sk-container\" hidden><div class=\"sk-item\"><div class=\"sk-estimator sk-toggleable\"><input class=\"sk-toggleable__control sk-hidden--visually\" id=\"sk-estimator-id-3\" type=\"checkbox\" checked><label for=\"sk-estimator-id-3\" class=\"sk-toggleable__label sk-toggleable__label-arrow\">RandomForestRegressor</label><div class=\"sk-toggleable__content\"><pre>RandomForestRegressor(random_state=42)</pre></div></div></div></div></div>"
      ],
      "text/plain": [
       "RandomForestRegressor(random_state=42)"
      ]
     },
     "execution_count": 32,
     "metadata": {},
     "output_type": "execute_result"
    }
   ],
   "source": [
    "rf_regressor1 = RandomForestRegressor(n_estimators=100, random_state=42)\n",
    "rf_regressor1.fit(X_train1, y_train1)    #fitting/training of model "
   ]
  },
  {
   "cell_type": "code",
   "execution_count": 33,
   "id": "35c0ce8a",
   "metadata": {},
   "outputs": [],
   "source": [
    "prediction_Y = rf_regressor1.predict(X_test1)    #Here y_pred1 is Y coordinate of location "
   ]
  },
  {
   "cell_type": "code",
   "execution_count": 39,
   "id": "b5b5b535",
   "metadata": {},
   "outputs": [
    {
     "name": "stdout",
     "output_type": "stream",
     "text": [
      "Mean Absolute Error: 0.0001592267338749513\n",
      "Mean Square Error: 2.678394820412893e-07\n",
      "Root Mean Square Error: 0.000517532107256438\n",
      "R2 score: 0.9999997400661597\n",
      "Median Absolute Error: 7.187467201519304e-05\n"
     ]
    }
   ],
   "source": [
    "# checking error values\n",
    "mae1 = mean_absolute_error(y_test1, prediction_Y)\n",
    "print(f'Mean Absolute Error: {mae1}')\n",
    "mse1 = mean_squared_error(y_test1, prediction_Y)\n",
    "print(f'Mean Square Error: {mse1}')\n",
    "rmse1 = np.sqrt(mse1)\n",
    "print(f'Root Mean Square Error: {rmse1}')\n",
    "r22 = r2_score(y_test1, prediction_Y)\n",
    "print(f'R2 score: {r22}')\n",
    "medae1 = median_absolute_error(y_test1, prediction_Y)\n",
    "print(f'Median Absolute Error: {medae1}')"
   ]
  },
  {
   "cell_type": "code",
   "execution_count": 37,
   "id": "149509ed",
   "metadata": {},
   "outputs": [
    {
     "data": {
      "text/plain": [
       "0.6482049552906105"
      ]
     },
     "execution_count": 37,
     "metadata": {},
     "output_type": "execute_result"
    }
   ],
   "source": []
  },
  {
   "cell_type": "code",
   "execution_count": null,
   "id": "5a294f01",
   "metadata": {},
   "outputs": [],
   "source": []
  }
 ],
 "metadata": {
  "kernelspec": {
   "display_name": "Python 3 (ipykernel)",
   "language": "python",
   "name": "python3"
  },
  "language_info": {
   "codemirror_mode": {
    "name": "ipython",
    "version": 3
   },
   "file_extension": ".py",
   "mimetype": "text/x-python",
   "name": "python",
   "nbconvert_exporter": "python",
   "pygments_lexer": "ipython3",
   "version": "3.10.10"
  }
 },
 "nbformat": 4,
 "nbformat_minor": 5
}
